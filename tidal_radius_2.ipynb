{
 "cells": [
  {
   "cell_type": "code",
   "execution_count": 59,
   "metadata": {},
   "outputs": [
    {
     "name": "stdout",
     "output_type": "stream",
     "text": [
      "Populating the interactive namespace from numpy and matplotlib\n"
     ]
    }
   ],
   "source": [
    "%pylab inline\n",
    "from scipy.optimize import bisect\n",
    "import numpy as np"
   ]
  },
  {
   "cell_type": "code",
   "execution_count": 60,
   "metadata": {
    "collapsed": true
   },
   "outputs": [],
   "source": [
    "# point mass definition\n",
    "def r_t(R, M, m):\n",
    "    print R, M, m\n",
    "    return R*(m/(2*M))**(1/3.)"
   ]
  },
  {
   "cell_type": "code",
   "execution_count": 61,
   "metadata": {
    "collapsed": true
   },
   "outputs": [],
   "source": [
    "def mass_nfw(Mvir, R, cvir, omegam=0.3):\n",
    "    \n",
    "    def f(x):\n",
    "        return np.log(1+x) - (x / (1+x))\n",
    "\n",
    "    def delta_vir(omegam=0.3):\n",
    "        x = omegam - 1.\n",
    "        deltac = 18*np.pi**2 + 82*x -39*x**2\n",
    "        return deltac/omegam\n",
    "\n",
    "    h = 0.7\n",
    "    term2 = delta_vir(omegam) * omegam / 97.2\n",
    "    term3 = Mvir * h / 1e12\n",
    "    rvir = (206./h) * term2**(-1./3.) * term3**(1./3.)\n",
    "    rs = rvir/cvir\n",
    "    x = R/rs\n",
    "    return Mvir*f(x)/f(cvir)"
   ]
  },
  {
   "cell_type": "code",
   "execution_count": 62,
   "metadata": {},
   "outputs": [
    {
     "data": {
      "text/plain": [
       "0.98553921515998988"
      ]
     },
     "execution_count": 62,
     "metadata": {},
     "output_type": "execute_result"
    }
   ],
   "source": [
    "mass_nfw(1e12, 250, 16.)/1e12"
   ]
  },
  {
   "cell_type": "code",
   "execution_count": 63,
   "metadata": {
    "collapsed": true
   },
   "outputs": [],
   "source": [
    "def mass_plummer(M, R, a):\n",
    "    return M*R**3/ (R**2 + a**2)**(1.5)"
   ]
  },
  {
   "cell_type": "code",
   "execution_count": 64,
   "metadata": {},
   "outputs": [
    {
     "data": {
      "text/plain": [
       "4.968"
      ]
     },
     "execution_count": 64,
     "metadata": {},
     "output_type": "execute_result"
    }
   ],
   "source": [
    "mass_plummer(2.3e11, 15., 20)/1e10"
   ]
  },
  {
   "cell_type": "code",
   "execution_count": 65,
   "metadata": {
    "collapsed": true
   },
   "outputs": [],
   "source": [
    "def mass_hernquist(M, R, a):\n",
    "    return M*R**2. / (R+a)**2."
   ]
  },
  {
   "cell_type": "code",
   "execution_count": 66,
   "metadata": {},
   "outputs": [
    {
     "data": {
      "text/plain": [
       "0.8808320163059622"
      ]
     },
     "execution_count": 66,
     "metadata": {},
     "output_type": "execute_result"
    }
   ],
   "source": [
    "mass_hernquist(1e11, 200., 13.1)/1e11"
   ]
  },
  {
   "cell_type": "code",
   "execution_count": 67,
   "metadata": {
    "collapsed": true
   },
   "outputs": [],
   "source": [
    "def r_t1(R, host, sat, Mhost, Ahost, msat, asat):\n",
    "    \n",
    "    def r_t1_b(r_t, R, host, sat, Mhost, Ahost, msat, asat):\n",
    "        \"\"\"\n",
    "        R (kpc): the separation between two galaxies' COMs\n",
    "        host (int): 1,2,3 which correspond to nfw, plummer, hernquist profiles\n",
    "        sat (int): 1,2,3 which correspond to nfw, plummer, hernquist profiles\n",
    "        Mhost (Msun): the mass of the host\n",
    "        Ahost (kpc): the scale radius or concentration for the chosen host mass profile\n",
    "        msat (Msun): the mass of the satellite\n",
    "        asat (kpc): the scale radius or concentration for the chosen satellite mass profile\n",
    "\n",
    "        \"\"\"\n",
    "        R_R = np.arange(1., R+0.1*2., 0.1)\n",
    "        \n",
    "        #make this part better\n",
    "        if host == 1:\n",
    "            MR = mass_nfw(Mhost, R_R, Ahost)\n",
    "            \n",
    "        if host == 2:\n",
    "            MR = mass_plummer(Mhost, R_R, Ahost)\n",
    "            \n",
    "        if host == 3:\n",
    "            MR = mass_hernquist(Mhost, R_R, Ahost)\n",
    "            \n",
    "        if sat == 1:\n",
    "            mr = mass_nfw(msat, r_t, asat)\n",
    "            \n",
    "        if sat == 2:\n",
    "            mr = mass_plummer(msat, r_t, asat)\n",
    "            \n",
    "        if sat == 3:\n",
    "            mr = mass_hernquist(msat, r_t, asat)\n",
    "        \n",
    "        #print('host mass enclosed', MR[:-1])\n",
    "        #print MR, mr\n",
    "        #mr = mass_plummer(msat, r_t, asat)\n",
    "        #MR = mass_nfw(Mhost, R_R, Ahost)\n",
    "\n",
    "        dlnM_dlnR = np.gradient(list(np.log(MR)), R_R[1]-R_R[0])\n",
    "        r_cut = np.argmin(np.abs(R_R-R))\n",
    "        der = dlnM_dlnR[r_cut]\n",
    "        f = r_t - R*(mr/MR[r_cut] * (1/(2-der)))**(1/3.0)\n",
    "        return f \n",
    "\n",
    "    rt_find = bisect(r_t1_b, 1., R, args=(R, host, sat, Mhost, Ahost, msat, asat))\n",
    "    \n",
    "    return rt_find"
   ]
  },
  {
   "cell_type": "code",
   "execution_count": 72,
   "metadata": {
    "scrolled": false
   },
   "outputs": [
    {
     "data": {
      "text/plain": [
       "70.99232672790032"
      ]
     },
     "execution_count": 72,
     "metadata": {},
     "output_type": "execute_result"
    }
   ],
   "source": [
    "M = 1.5e12\n",
    "A = 9.56\n",
    "a = 20.\n",
    "m = 2.3e11\n",
    "R = 150.\n",
    "\n",
    "#r_t1 should be larger than r_t\n",
    "r_t1(R,1, 2, M, A, m, a)#, r_t(R, M , m)"
   ]
  },
  {
   "cell_type": "code",
   "execution_count": 73,
   "metadata": {},
   "outputs": [
    {
     "data": {
      "text/plain": [
       "65.75390726234136"
      ]
     },
     "execution_count": 73,
     "metadata": {},
     "output_type": "execute_result"
    }
   ],
   "source": [
    "M = 2e12\n",
    "m = 2.3e11\n",
    "A = 9.36\n",
    "a = 20.\n",
    "R = 150.\n",
    "\n",
    "#r_t1 should be larger than r_t\n",
    "r_t1(R,1, 2, M, A, m, a)#, r_t(R, M , m)"
   ]
  },
  {
   "cell_type": "code",
   "execution_count": null,
   "metadata": {
    "collapsed": true
   },
   "outputs": [],
   "source": []
  }
 ],
 "metadata": {
  "kernelspec": {
   "display_name": "Python 2",
   "language": "python",
   "name": "python2"
  },
  "language_info": {
   "codemirror_mode": {
    "name": "ipython",
    "version": 2
   },
   "file_extension": ".py",
   "mimetype": "text/x-python",
   "name": "python",
   "nbconvert_exporter": "python",
   "pygments_lexer": "ipython2",
   "version": "2.7.13"
  }
 },
 "nbformat": 4,
 "nbformat_minor": 2
}
