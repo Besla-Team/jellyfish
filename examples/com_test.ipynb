{
 "cells": [
  {
   "cell_type": "code",
   "execution_count": 5,
   "metadata": {},
   "outputs": [
    {
     "name": "stdout",
     "output_type": "stream",
     "text": [
      "Populating the interactive namespace from numpy and matplotlib\n"
     ]
    }
   ],
   "source": [
    "%pylab inline\n",
    "import numpy as np\n",
    "import jellyfish\n",
    "import matplotlib.pyplot as plt\n",
    "import pygadgetreader"
   ]
  },
  {
   "cell_type": "code",
   "execution_count": 18,
   "metadata": {},
   "outputs": [],
   "source": [
    "pos = jellyfish.Hello_sim('../../MW_anisotropy/code/test_snaps/', 'MWLMC3_100M_new_b0_090', 100000000, 0, 'host_dm', 'com_host', 'pos')"
   ]
  },
  {
   "cell_type": "code",
   "execution_count": 3,
   "metadata": {
    "collapsed": true
   },
   "outputs": [],
   "source": [
    "halo = jellyfish.Hello_sim('./', 'test_snap', 1000000, 0, 'host_dm', 'com_host', 'pos')"
   ]
  },
  {
   "cell_type": "code",
   "execution_count": 7,
   "metadata": {},
   "outputs": [
    {
     "name": "stdout",
     "output_type": "stream",
     "text": [
      "Returning DM    Positions\n",
      "Returning DM    Velocities\n",
      "Returning DM    Particle IDs\n",
      "Returning DM    Positions\n"
     ]
    }
   ],
   "source": [
    "pos = halo.read_MW_snap_com_coordinates()"
   ]
  },
  {
   "cell_type": "code",
   "execution_count": 11,
   "metadata": {},
   "outputs": [],
   "source": [
    "I = jellyfish.shapes.shape_tensor(pos[:,0], pos[:,1], pos[:,2])"
   ]
  },
  {
   "cell_type": "code",
   "execution_count": 12,
   "metadata": {},
   "outputs": [],
   "source": [
    "ar = jellyfish.shapes.axis_ratios(I)"
   ]
  },
  {
   "cell_type": "code",
   "execution_count": 13,
   "metadata": {},
   "outputs": [
    {
     "data": {
      "text/plain": [
       "(array([[-0.9776348 ,  0.21025156, -0.00494853],\n",
       "        [ 0.12124271,  0.54422018, -0.83013529],\n",
       "        [ 0.17184415,  0.81216912,  0.55754005]]),\n",
       " (0.9786825362359802+0j),\n",
       " (0.9909601214952657+0j))"
      ]
     },
     "execution_count": 13,
     "metadata": {},
     "output_type": "execute_result"
    }
   ],
   "source": [
    "ar"
   ]
  },
  {
   "cell_type": "code",
   "execution_count": 26,
   "metadata": {},
   "outputs": [],
   "source": [
    "def shape_tensor(pos):\n",
    "    \"\"\"\n",
    "    Compute the shape tensor as defined in Chua+18\n",
    "    https://ui.adsabs.harvard.edu/abs/2019MNRAS.484..476C/abstract\n",
    "    S_{ij} = 1/sum_{k}m_k  \\sum_{k}1/w_k m_k r_{k,i} r_{k,j}\n",
    "    For equal mass particles:\n",
    "\n",
    "\n",
    "    S_{ij} = \\sum_{k} k r_{k,i} r_{k,j}\n",
    "\n",
    "    \"\"\"\n",
    "    assert(shape(pos)[1]==3), \"Wrong dimensions for pos\"\n",
    "    shape_T = np.zeros([3, 3])\n",
    "    npart = len(pos)\n",
    "    for i in range(3):\n",
    "        for j in range(3):\n",
    "            s = np.zeros(npart)\n",
    "            for n in range(npart):\n",
    "                s[n] = pos[n,i] * pos[n,j]\n",
    "            shape_T[i][j] = sum(s) \n",
    "    return shape_T\n"
   ]
  },
  {
   "cell_type": "code",
   "execution_count": 27,
   "metadata": {},
   "outputs": [
    {
     "data": {
      "text/plain": [
       "3"
      ]
     },
     "execution_count": 27,
     "metadata": {},
     "output_type": "execute_result"
    }
   ],
   "source": [
    "shape(pos)[1]"
   ]
  },
  {
   "cell_type": "code",
   "execution_count": 28,
   "metadata": {},
   "outputs": [],
   "source": [
    "ST = shape_tensor(pos)"
   ]
  },
  {
   "cell_type": "code",
   "execution_count": 22,
   "metadata": {},
   "outputs": [],
   "source": [
    "ar2 = jellyfish.shapes.axis_ratios(ST)"
   ]
  },
  {
   "cell_type": "code",
   "execution_count": 23,
   "metadata": {},
   "outputs": [
    {
     "data": {
      "text/plain": [
       "(array([[-0.9776348 ,  0.21025156, -0.00494853],\n",
       "        [ 0.12124271,  0.54422018, -0.83013529],\n",
       "        [ 0.17184415,  0.81216912,  0.55754005]]),\n",
       " (0.9786825362360081+0j),\n",
       " (0.9909601214952649+0j))"
      ]
     },
     "execution_count": 23,
     "metadata": {},
     "output_type": "execute_result"
    }
   ],
   "source": [
    "ar2"
   ]
  },
  {
   "cell_type": "code",
   "execution_count": 32,
   "metadata": {},
   "outputs": [
    {
     "data": {
      "text/plain": [
       "array([[-0.9776348 ,  0.21025156, -0.00494853],\n",
       "       [ 0.12124271,  0.54422018, -0.83013529],\n",
       "       [ 0.17184415,  0.81216912,  0.55754005]])"
      ]
     },
     "execution_count": 32,
     "metadata": {},
     "output_type": "execute_result"
    }
   ],
   "source": [
    "ar2[0]"
   ]
  },
  {
   "cell_type": "code",
   "execution_count": 33,
   "metadata": {},
   "outputs": [
    {
     "data": {
      "text/plain": [
       "array([[ 80.44805058,  80.81029633,  78.9883946 , ..., -34.94698726,\n",
       "        -34.12749084, -35.29059596],\n",
       "       [172.26677257, 166.65840136, 157.30554496, ..., 150.3922791 ,\n",
       "        151.38990476, 153.56520251],\n",
       "       [-23.34014585, -21.2623608 , -22.56385664, ..., 136.79316393,\n",
       "        132.59074624, 134.30804115]])"
      ]
     },
     "execution_count": 33,
     "metadata": {},
     "output_type": "execute_result"
    }
   ],
   "source": [
    "dot(ar2[0], pos.T)"
   ]
  },
  {
   "cell_type": "code",
   "execution_count": 34,
   "metadata": {},
   "outputs": [
    {
     "data": {
      "text/plain": [
       "array([[ -61.77359 ,   91.709236, -156.4159  ],\n",
       "       [ -62.450653,   90.42072 , -150.60353 ],\n",
       "       [ -62.02712 ,   83.89062 , -143.55602 ],\n",
       "       ...,\n",
       "       [  75.90646 ,  185.59804 ,  -48.405334],\n",
       "       [  74.50409 ,  182.90019 ,  -51.58057 ],\n",
       "       [  76.20003 ,  185.23422 ,  -52.423145]], dtype=float32)"
      ]
     },
     "execution_count": 34,
     "metadata": {},
     "output_type": "execute_result"
    }
   ],
   "source": []
  },
  {
   "cell_type": "code",
   "execution_count": 35,
   "metadata": {},
   "outputs": [
    {
     "name": "stdout",
     "output_type": "stream",
     "text": [
      "Returning DM    Positions\n"
     ]
    }
   ],
   "source": [
    "pos_pr = pygadgetreader.readsnap('./Prolate06_010', 'pos', 'dm')"
   ]
  },
  {
   "cell_type": "code",
   "execution_count": 36,
   "metadata": {},
   "outputs": [
    {
     "data": {
      "text/plain": [
       "500000"
      ]
     },
     "execution_count": 36,
     "metadata": {},
     "output_type": "execute_result"
    }
   ],
   "source": [
    "len(pos_pr)"
   ]
  },
  {
   "cell_type": "code",
   "execution_count": 53,
   "metadata": {},
   "outputs": [
    {
     "data": {
      "text/plain": [
       "(-200, 200)"
      ]
     },
     "execution_count": 53,
     "metadata": {},
     "output_type": "execute_result"
    },
    {
     "data": {
      "image/png": "[encoded data removed]",
      "text/plain": [
       "<matplotlib.figure.Figure at 0x7f6d159075c0>"
      ]
     },
     "metadata": {},
     "output_type": "display_data"
    }
   ],
   "source": [
    "figsize(5,5)\n",
    "scatter(pos_pr[:10000,0], pos_pr[:10000,2], s=0.1, c='k')\n",
    "xlim(-200, 200)\n",
    "ylim(-200, 200)"
   ]
  },
  {
   "cell_type": "code",
   "execution_count": 41,
   "metadata": {},
   "outputs": [],
   "source": [
    "pos_tr_pr = pos_pr[np.where(np.sqrt(pos_pr[:,0]**2 + pos_pr[:,1]**2 + pos_pr[:,2]**2)<300)]"
   ]
  },
  {
   "cell_type": "code",
   "execution_count": 42,
   "metadata": {},
   "outputs": [
    {
     "data": {
      "text/plain": [
       "<matplotlib.collections.PathCollection at 0x7f6d15ced7f0>"
      ]
     },
     "execution_count": 42,
     "metadata": {},
     "output_type": "execute_result"
    },
    {
     "data": {
      "image/png": "[encoded data removed]",
      "text/plain": [
       "<matplotlib.figure.Figure at 0x7f6d1c1bd550>"
      ]
     },
     "metadata": {},
     "output_type": "display_data"
    }
   ],
   "source": [
    "scatter(pos_tr_pr[:10000,0], pos_tr_pr[:10000,2], s=0.1, c='k')\n"
   ]
  },
  {
   "cell_type": "code",
   "execution_count": 44,
   "metadata": {},
   "outputs": [],
   "source": [
    "I_pr = shape_tensor(pos_tr_pr)"
   ]
  },
  {
   "cell_type": "code",
   "execution_count": 46,
   "metadata": {},
   "outputs": [],
   "source": [
    "shape_pr = jellyfish.shapes.axis_ratios(I_pr)"
   ]
  },
  {
   "cell_type": "code",
   "execution_count": 47,
   "metadata": {},
   "outputs": [
    {
     "data": {
      "text/plain": [
       "(array([[ 0.88695856, -0.46183166,  0.00400351],\n",
       "        [-0.46184756, -0.88694418,  0.00518192],\n",
       "        [-0.00115771,  0.00644516,  0.99997856]]),\n",
       " (0.731350437781492+0j),\n",
       " (0.7345269182726774+0j))"
      ]
     },
     "execution_count": 47,
     "metadata": {},
     "output_type": "execute_result"
    }
   ],
   "source": [
    "shape_pr"
   ]
  },
  {
   "cell_type": "code",
   "execution_count": 49,
   "metadata": {},
   "outputs": [
    {
     "data": {
      "text/plain": [
       "(0.995675474360211+0j)"
      ]
     },
     "execution_count": 49,
     "metadata": {},
     "output_type": "execute_result"
    }
   ],
   "source": [
    "shape_pr[1]/shape_pr[2]"
   ]
  },
  {
   "cell_type": "code",
   "execution_count": 51,
   "metadata": {},
   "outputs": [
    {
     "data": {
      "text/plain": [
       "(0.5371965832410128+0j)"
      ]
     },
     "execution_count": 51,
     "metadata": {},
     "output_type": "execute_result"
    }
   ],
   "source": [
    "shape_pr[2]*shape_pr[1]"
   ]
  },
  {
   "cell_type": "code",
   "execution_count": null,
   "metadata": {},
   "outputs": [],
   "source": [
    "def plot_ellipsoids(egien_v):"
   ]
  },
  {
   "cell_type": "code",
   "execution_count": 118,
   "metadata": {},
   "outputs": [
    {
     "data": {
      "text/plain": [
       "(-2.2, 2.2)"
      ]
     },
     "execution_count": 118,
     "metadata": {},
     "output_type": "execute_result"
    },
    {
     "data": {
      "image/png": "[encoded data removed]",
      "text/plain": [
       "<matplotlib.figure.Figure at 0x7f6d150142e8>"
      ]
     },
     "metadata": {},
     "output_type": "display_data"
    }
   ],
   "source": [
    "x0=0  #x-position of the center\n",
    "y0=0  #y-position of the center\n",
    "z0=0\n",
    "a=2.     #radius on the x-axis\n",
    "b=1.5    #radius on the y-axis\n",
    "c=1\n",
    "u = np.linspace(0, 2*pi, 100)\n",
    "v = np.linspace(0, pi, 100)\n",
    "U, V = meshgrid(u, v)\n",
    "\n",
    "x = x0+(a*np.cos(U.flatten())*np.sin(V.flatten()))\n",
    "y = y0+(b*np.sin(U.flatten())*np.sin(V.flatten()))\n",
    "z = z0+(c*np.cos(V.flatten()))\n",
    "index_z = np.where(np.abs(z)<0.02)[0]\n",
    "plt.plot(x[index_z], y[index_z])\n",
    "xlim(-2.2, 2.2)\n",
    "ylim(-2.2, 2.2)"
   ]
  },
  {
   "cell_type": "code",
   "execution_count": 96,
   "metadata": {},
   "outputs": [],
   "source": [
    "pos_ell = np.array([x,y,z])"
   ]
  },
  {
   "cell_type": "code",
   "execution_count": 97,
   "metadata": {},
   "outputs": [
    {
     "data": {
      "text/plain": [
       "(3, 10000)"
      ]
     },
     "execution_count": 97,
     "metadata": {},
     "output_type": "execute_result"
    }
   ],
   "source": [
    "shape(pos_ell)"
   ]
  },
  {
   "cell_type": "code",
   "execution_count": 103,
   "metadata": {},
   "outputs": [],
   "source": [
    "pos_rot = dot(shape_pr[0].T, pos_ell)"
   ]
  },
  {
   "cell_type": "code",
   "execution_count": 106,
   "metadata": {},
   "outputs": [
    {
     "data": {
      "text/plain": [
       "(-2.2, 2.2)"
      ]
     },
     "execution_count": 106,
     "metadata": {},
     "output_type": "execute_result"
    },
    {
     "data": {
      "image/png": "[encoded data removed]",
      "text/plain": [
       "<matplotlib.figure.Figure at 0x7f6d155e3390>"
      ]
     },
     "metadata": {},
     "output_type": "display_data"
    }
   ],
   "source": [
    "plt.plot(pos_rot[1], pos_rot[2])\n",
    "xlim(-2.2, 2.2)\n",
    "ylim(-2.2, 2.2)"
   ]
  },
  {
   "cell_type": "code",
   "execution_count": null,
   "metadata": {},
   "outputs": [],
   "source": []
  }
 ],
 "metadata": {
  "kernelspec": {
   "display_name": "Python 3",
   "language": "python",
   "name": "python3"
  },
  "language_info": {
   "codemirror_mode": {
    "name": "ipython",
    "version": 3
   },
   "file_extension": ".py",
   "mimetype": "text/x-python",
   "name": "python",
   "nbconvert_exporter": "python",
   "pygments_lexer": "ipython3",
   "version": "3.5.2"
  }
 },
 "nbformat": 4,
 "nbformat_minor": 2
}
