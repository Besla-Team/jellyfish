{
 "cells": [
  {
   "cell_type": "code",
   "execution_count": 2,
   "metadata": {
    "collapsed": false
   },
   "outputs": [
    {
     "name": "stdout",
     "output_type": "stream",
     "text": [
      "Populating the interactive namespace from numpy and matplotlib\n"
     ]
    },
    {
     "name": "stderr",
     "output_type": "stream",
     "text": [
      "/usr/local/lib/python3.5/dist-packages/IPython/core/magics/pylab.py:160: UserWarning: pylab import has clobbered these variables: ['linalg']\n",
      "`%matplotlib` prevents importing * from pylab and numpy\n",
      "  \"\\n`%matplotlib` prevents importing * from pylab and numpy\"\n"
     ]
    }
   ],
   "source": [
    "%pylab inline\n",
    "import jellyfish\n",
    "import numpy as np\n",
    "import matplotlib.pyplot as plt\n",
    "from pygadgetreader import *\n",
    "from jellyfish.com import *\n",
    "from jellyfish.physical_properties import *"
   ]
  },
  {
   "cell_type": "code",
   "execution_count": 3,
   "metadata": {
    "collapsed": false
   },
   "outputs": [
    {
     "data": {
      "text/plain": [
       "{'O0': 0.29999999999999999,\n",
       " 'Ol': 0.69999999999999996,\n",
       " 'boxsize': 50000.0,\n",
       " 'flag_age': 0,\n",
       " 'flag_cooling': 1,\n",
       " 'flag_delaytime': 0,\n",
       " 'flag_fb': 1,\n",
       " 'flag_fh2': 0,\n",
       " 'flag_metals': 0,\n",
       " 'flag_potential': 0,\n",
       " 'flag_sfr': 1,\n",
       " 'flag_tmax': 0,\n",
       " 'h': 0.69999999999999996,\n",
       " 'massTable': array([ 0.,  0.,  0.,  0.,  0.,  0.]),\n",
       " 'nbndry': 0,\n",
       " 'nbulge': 10000,\n",
       " 'ndisk': 50000,\n",
       " 'ndm': 1450000,\n",
       " 'nfiles': 1,\n",
       " 'ngas': 0,\n",
       " 'npartThisFile': array([      0, 1450000,   50000,   10000,       0,       0], dtype=uint32),\n",
       " 'npartTotal': array([      0, 1450000,   50000,   10000,       0,       0], dtype=uint32),\n",
       " 'npartTotalHW': array([0, 0, 0, 0, 0, 0], dtype=uint32),\n",
       " 'nstar': 0,\n",
       " 'redshift': 0.0,\n",
       " 'rhocrit': 9.2042876511051161e-30,\n",
       " 'time': 2.2399999983608723}"
      ]
     },
     "execution_count": 3,
     "metadata": {},
     "output_type": "execute_result"
    }
   ],
   "source": [
    "readheader('test_snap','header')"
   ]
  },
  {
   "cell_type": "code",
   "execution_count": 4,
   "metadata": {
    "collapsed": false
   },
   "outputs": [
    {
     "name": "stdout",
     "output_type": "stream",
     "text": [
      "Returning DM    Positions\n",
      "Returning DM    Velocities\n",
      "Returning DM    Particle IDs\n",
      "Returning DM    Potential\n",
      "Returning DM    Mass\n"
     ]
    },
    {
     "data": {
      "text/plain": [
       "1450000"
      ]
     },
     "execution_count": 4,
     "metadata": {},
     "output_type": "execute_result"
    }
   ],
   "source": [
    "path = './test_snap'\n",
    "pos = readsnap(path, 'pos', 'dm')\n",
    "vel = readsnap(path, 'vel','dm')\n",
    "pids = readsnap(path, 'pid', 'dm')\n",
    "pot = readsnap(path, 'pot', 'dm')\n",
    "mass = readsnap(path, 'mass', 'dm')\n",
    "len(pids)"
   ]
  },
  {
   "cell_type": "code",
   "execution_count": 25,
   "metadata": {
    "collapsed": false
   },
   "outputs": [],
   "source": [
    "#separate MW and LMC particles\n",
    "gal_ids = host_sat_particles(pids, [1e6, 450000], 0, pos, vel, mass, pot)"
   ]
  },
  {
   "cell_type": "code",
   "execution_count": 26,
   "metadata": {},
   "outputs": [],
   "source": [
    "pos_mw, vel_mw, mass_mw, pot_mw = gal_ids"
   ]
  },
  {
   "cell_type": "code",
   "execution_count": 27,
   "metadata": {},
   "outputs": [
    {
     "data": {
      "text/plain": [
       "(1000000, 3)"
      ]
     },
     "execution_count": 27,
     "metadata": {},
     "output_type": "execute_result"
    }
   ],
   "source": [
    "shape(pos_mw)"
   ]
  },
  {
   "cell_type": "code",
   "execution_count": 33,
   "metadata": {
    "collapsed": false
   },
   "outputs": [
    {
     "data": {
      "text/plain": [
       "(<Quantity -117842038606.18164 km kpc solMass / s>,\n",
       " <Quantity 361816108.48319054 km kpc solMass / s>,\n",
       " <Quantity -17535580388.70056 km kpc solMass / s>)"
      ]
     },
     "execution_count": 33,
     "metadata": {},
     "output_type": "execute_result"
    }
   ],
   "source": [
    "# average angular momentum vector for the halo\n",
    "a = PhysProps(pos_mw, vel_mw, mass_mw, pot_mw)\n",
    "J = PhysProps.angular_momentum(a)\n",
    "l = "
   ]
  },
  {
   "cell_type": "code",
   "execution_count": 6,
   "metadata": {
    "collapsed": false
   },
   "outputs": [
    {
     "name": "stdout",
     "output_type": "stream",
     "text": [
      "1.37100688989e+22\n",
      "R: 350.0\n",
      "V 155.054041772 km kpc(1/2) / (s solMass(1/2))\n",
      "91331.6154244\n"
     ]
    }
   ],
   "source": [
    "#spin parameter (lambda)\n",
    "#print pos, vel\n",
    "from scipy import linalg\n",
    "print linalg.norm([J[0].value, J[1].value, J[2].value])\n",
    "lam = spin_param([J[0].value, J[1].value, J[2].value], mass, pos, 350.)\n",
    "print(lam)\n",
    "# next week : add R argument to ang_mom and check the units of V_c"
   ]
  },
  {
   "cell_type": "code",
   "execution_count": 7,
   "metadata": {
    "collapsed": true
   },
   "outputs": [],
   "source": [
    "#K = kinetic_energy(vel, mass)"
   ]
  },
  {
   "cell_type": "code",
   "execution_count": 25,
   "metadata": {},
   "outputs": [
    {
     "data": {
      "text/plain": [
       "[1000000.0]"
      ]
     },
     "execution_count": 25,
     "metadata": {},
     "output_type": "execute_result"
    }
   ],
   "source": [
    "x[:1]"
   ]
  },
  {
   "cell_type": "code",
   "execution_count": null,
   "metadata": {},
   "outputs": [],
   "source": []
  }
 ],
 "metadata": {
  "kernelspec": {
   "display_name": "Python 3",
   "language": "python",
   "name": "python3"
  },
  "language_info": {
   "codemirror_mode": {
    "name": "ipython",
    "version": 3
   },
   "file_extension": ".py",
   "mimetype": "text/x-python",
   "name": "python",
   "nbconvert_exporter": "python",
   "pygments_lexer": "ipython3",
   "version": "3.5.2"
  }
 },
 "nbformat": 4,
 "nbformat_minor": 2
}
