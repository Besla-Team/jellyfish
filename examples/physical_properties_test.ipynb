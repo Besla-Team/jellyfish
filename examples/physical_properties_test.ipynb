{
 "cells": [
  {
   "cell_type": "code",
   "execution_count": 1,
   "metadata": {
    "collapsed": false
   },
   "outputs": [
    {
     "name": "stdout",
     "output_type": "stream",
     "text": [
      "Populating the interactive namespace from numpy and matplotlib\n"
     ]
    },
    {
     "name": "stderr",
     "output_type": "stream",
     "text": [
      "//anaconda/lib/python2.7/site-packages/matplotlib/__init__.py:1405: UserWarning: \n",
      "This call to matplotlib.use() has no effect because the backend has already\n",
      "been chosen; matplotlib.use() must be called *before* pylab, matplotlib.pyplot,\n",
      "or matplotlib.backends is imported for the first time.\n",
      "\n",
      "  warnings.warn(_use_error_msg)\n"
     ]
    }
   ],
   "source": [
    "%pylab inline\n",
    "import jellyfish\n",
    "import numpy as np\n",
    "import matplotlib.pyplot as plt\n",
    "from pygadgetreader import *\n",
    "from jellyfish.com import *\n",
    "from jellyfish.physical_properties import *"
   ]
  },
  {
   "cell_type": "code",
   "execution_count": 2,
   "metadata": {
    "collapsed": false
   },
   "outputs": [
    {
     "data": {
      "text/plain": [
       "{'O0': 0.29999999999999999,\n",
       " 'Ol': 0.69999999999999996,\n",
       " 'boxsize': 50000.0,\n",
       " 'flag_age': 0,\n",
       " 'flag_cooling': 1,\n",
       " 'flag_delaytime': 0,\n",
       " 'flag_fb': 1,\n",
       " 'flag_fh2': 0,\n",
       " 'flag_metals': 0,\n",
       " 'flag_potential': 0,\n",
       " 'flag_sfr': 1,\n",
       " 'flag_tmax': 0,\n",
       " 'h': 0.69999999999999996,\n",
       " 'massTable': array([ 0.,  0.,  0.,  0.,  0.,  0.]),\n",
       " 'nbndry': 0,\n",
       " 'nbulge': 10000,\n",
       " 'ndisk': 50000,\n",
       " 'ndm': 1450000,\n",
       " 'nfiles': 1,\n",
       " 'ngas': 0,\n",
       " 'npartThisFile': array([      0, 1450000,   50000,   10000,       0,       0], dtype=uint32),\n",
       " 'npartTotal': array([      0, 1450000,   50000,   10000,       0,       0], dtype=uint32),\n",
       " 'npartTotalHW': array([0, 0, 0, 0, 0, 0], dtype=uint32),\n",
       " 'nstar': 0,\n",
       " 'redshift': 0.0,\n",
       " 'rhocrit': 9.2042876511051161e-30,\n",
       " 'time': 2.2399999983608723}"
      ]
     },
     "execution_count": 2,
     "metadata": {},
     "output_type": "execute_result"
    }
   ],
   "source": [
    "readheader('test_snap','header')"
   ]
  },
  {
   "cell_type": "raw",
   "metadata": {
    "collapsed": true
   },
   "source": []
  },
  {
   "cell_type": "code",
   "execution_count": 3,
   "metadata": {
    "collapsed": false
   },
   "outputs": [
    {
     "name": "stdout",
     "output_type": "stream",
     "text": [
      "Returning DM    Positions\n",
      "Returning DM    Velocities\n",
      "Returning DM    Particle IDs\n",
      "Returning DM    Potential\n",
      "Returning DM    Mass\n"
     ]
    }
   ],
   "source": [
    "path = './test_snap'\n",
    "pos = readsnap(path, 'pos', 'dm')\n",
    "vel = readsnap(path, 'vel','dm')\n",
    "pids = readsnap(path, 'pid', 'dm')\n",
    "pot = readsnap(path, 'pot', 'dm')\n",
    "mass = readsnap(path, 'mass', 'dm')"
   ]
  },
  {
   "cell_type": "code",
   "execution_count": 5,
   "metadata": {
    "collapsed": false
   },
   "outputs": [
    {
     "name": "stdout",
     "output_type": "stream",
     "text": [
      "here\n",
      "('Number of satellites: ', 0)\n",
      "(array([], shape=(1000000, 0), dtype=float64), array([], shape=(1000000, 0), dtype=float64))\n"
     ]
    },
    {
     "name": "stderr",
     "output_type": "stream",
     "text": [
      "//anaconda/lib/python2.7/site-packages/Jellyfish-0.1-py2.7.egg/jellyfish/com.py:67: VisibleDeprecationWarning: using a non-integer number instead of an integer will result in an error in the future\n",
      "//anaconda/lib/python2.7/site-packages/Jellyfish-0.1-py2.7.egg/jellyfish/com.py:74: VisibleDeprecationWarning: using a non-integer number instead of an integer will result in an error in the future\n",
      "//anaconda/lib/python2.7/site-packages/Jellyfish-0.1-py2.7.egg/jellyfish/com.py:75: VisibleDeprecationWarning: using a non-integer number instead of an integer will result in an error in the future\n"
     ]
    }
   ],
   "source": [
    "#separate MW and LMC particles\n",
    "print host_sat_particles(pos, vel, pids, [1e6])"
   ]
  },
  {
   "cell_type": "code",
   "execution_count": null,
   "metadata": {
    "collapsed": false
   },
   "outputs": [],
   "source": [
    "# average angular momentum vector for the halo\n",
    "J = angular_momentum(pos, vel, mass)\n",
    "print(J)"
   ]
  },
  {
   "cell_type": "code",
   "execution_count": null,
   "metadata": {
    "collapsed": false
   },
   "outputs": [],
   "source": [
    "#spin parameter (lambda)\n",
    "lam = spin_param(J, mass, pos)\n",
    "print(lam)"
   ]
  },
  {
   "cell_type": "code",
   "execution_count": null,
   "metadata": {
    "collapsed": true
   },
   "outputs": [],
   "source": []
  }
 ],
 "metadata": {
  "kernelspec": {
   "display_name": "Python 2",
   "language": "python",
   "name": "python2"
  },
  "language_info": {
   "codemirror_mode": {
    "name": "ipython",
    "version": 2
   },
   "file_extension": ".py",
   "mimetype": "text/x-python",
   "name": "python",
   "nbconvert_exporter": "python",
   "pygments_lexer": "ipython2",
   "version": "2.7.13"
  }
 },
 "nbformat": 4,
 "nbformat_minor": 2
}
