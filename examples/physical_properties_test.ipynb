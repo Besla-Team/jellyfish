{
 "cells": [
  {
   "cell_type": "code",
   "execution_count": 4,
   "metadata": {
    "collapsed": false
   },
   "outputs": [],
   "source": [
    "%matplotlib inline\n",
    "import jellyfish\n",
    "import numpy as np\n",
    "import matplotlib.pyplot as plt\n",
    "from pygadgetreader import *\n",
    "from jellyfish.com import *\n",
    "from jellyfish.physical_properties import *"
   ]
  },
  {
   "cell_type": "code",
   "execution_count": 5,
   "metadata": {
    "collapsed": false
   },
   "outputs": [
    {
     "data": {
      "text/plain": [
       "{'O0': 0.29999999999999999,\n",
       " 'Ol': 0.69999999999999996,\n",
       " 'boxsize': 50000.0,\n",
       " 'flag_age': 0,\n",
       " 'flag_cooling': 1,\n",
       " 'flag_delaytime': 0,\n",
       " 'flag_fb': 1,\n",
       " 'flag_fh2': 0,\n",
       " 'flag_metals': 0,\n",
       " 'flag_potential': 0,\n",
       " 'flag_sfr': 1,\n",
       " 'flag_tmax': 0,\n",
       " 'h': 0.69999999999999996,\n",
       " 'massTable': array([ 0.,  0.,  0.,  0.,  0.,  0.]),\n",
       " 'nbndry': 0,\n",
       " 'nbulge': 10000,\n",
       " 'ndisk': 50000,\n",
       " 'ndm': 1450000,\n",
       " 'nfiles': 1,\n",
       " 'ngas': 0,\n",
       " 'npartThisFile': array([      0, 1450000,   50000,   10000,       0,       0], dtype=uint32),\n",
       " 'npartTotal': array([      0, 1450000,   50000,   10000,       0,       0], dtype=uint32),\n",
       " 'npartTotalHW': array([0, 0, 0, 0, 0, 0], dtype=uint32),\n",
       " 'nstar': 0,\n",
       " 'redshift': 0.0,\n",
       " 'rhocrit': 9.2042876511051161e-30,\n",
       " 'time': 2.2399999983608723}"
      ]
     },
     "execution_count": 5,
     "metadata": {},
     "output_type": "execute_result"
    }
   ],
   "source": [
    "readheader('test_snap','header')"
   ]
  },
  {
   "cell_type": "code",
   "execution_count": 6,
   "metadata": {
    "collapsed": false
   },
   "outputs": [
    {
     "name": "stdout",
     "output_type": "stream",
     "text": [
      "Returning DM    Positions\n",
      "Returning DM    Velocities\n",
      "Returning DM    Particle IDs\n",
      "Returning DM    Potential\n",
      "Returning DM    Mass\n"
     ]
    },
    {
     "data": {
      "text/plain": [
       "1450000"
      ]
     },
     "execution_count": 6,
     "metadata": {},
     "output_type": "execute_result"
    }
   ],
   "source": [
    "path = './test_snap'\n",
    "pos = readsnap(path, 'pos', 'dm')\n",
    "vel = readsnap(path, 'vel','dm')\n",
    "pids = readsnap(path, 'pid', 'dm')\n",
    "pot = readsnap(path, 'pot', 'dm')\n",
    "mass = readsnap(path, 'mass', 'dm')\n",
    "len(pids)"
   ]
  },
  {
   "cell_type": "code",
   "execution_count": 7,
   "metadata": {
    "collapsed": false
   },
   "outputs": [],
   "source": [
    "#separate MW and LMC particles\n",
    "gal_ids = host_sat_particles(pids, [1e6, 450000], 0, pos, vel, mass, pot)"
   ]
  },
  {
   "cell_type": "code",
   "execution_count": 8,
   "metadata": {},
   "outputs": [],
   "source": [
    "pos_mw, vel_mw, mass_mw, pot_mw = gal_ids"
   ]
  },
  {
   "cell_type": "code",
   "execution_count": 9,
   "metadata": {},
   "outputs": [
    {
     "data": {
      "text/plain": [
       "(1000000, 3)"
      ]
     },
     "execution_count": 9,
     "metadata": {},
     "output_type": "execute_result"
    }
   ],
   "source": [
    "np.shape(pos_mw)"
   ]
  },
  {
   "cell_type": "code",
   "execution_count": 10,
   "metadata": {
    "collapsed": false
   },
   "outputs": [],
   "source": [
    "# average angular momentum vector for the halo\n",
    "a = PhysProps(pos_mw, vel_mw, mass_mw, pot_mw)\n"
   ]
  },
  {
   "cell_type": "code",
   "execution_count": 11,
   "metadata": {},
   "outputs": [
    {
     "name": "stdout",
     "output_type": "stream",
     "text": [
      "[-1.1784203e+11, 3.618161e+08, -1.753558e+10]\n"
     ]
    }
   ],
   "source": [
    "J = PhysProps.angular_momentum(a)\n",
    "print(J)"
   ]
  },
  {
   "cell_type": "code",
   "execution_count": 12,
   "metadata": {},
   "outputs": [
    {
     "name": "stdout",
     "output_type": "stream",
     "text": [
      "Assumes that the velocities are in km/s, Masses in Msun and distances in kpc.\n"
     ]
    },
    {
     "ename": "AssertionError",
     "evalue": "Error lambda is larger than 1.",
     "output_type": "error",
     "traceback": [
      "\u001b[0;31m---------------------------------------------------------------------------\u001b[0m",
      "\u001b[0;31mAssertionError\u001b[0m                            Traceback (most recent call last)",
      "\u001b[0;32m<ipython-input-12-41d3abde125f>\u001b[0m in \u001b[0;36m<module>\u001b[0;34m()\u001b[0m\n\u001b[0;32m----> 1\u001b[0;31m \u001b[0ml\u001b[0m \u001b[0;34m=\u001b[0m \u001b[0mPhysProps\u001b[0m\u001b[0;34m.\u001b[0m\u001b[0mspin_param\u001b[0m\u001b[0;34m(\u001b[0m\u001b[0ma\u001b[0m\u001b[0;34m,\u001b[0m \u001b[0mJ\u001b[0m\u001b[0;34m)\u001b[0m\u001b[0;34m\u001b[0m\u001b[0m\n\u001b[0m",
      "\u001b[0;32m/usr/local/lib/python3.5/dist-packages/Jellyfish-0.1-py3.5.egg/jellyfish/physical_properties.py\u001b[0m in \u001b[0;36mspin_param\u001b[0;34m(self, J)\u001b[0m\n\u001b[1;32m     90\u001b[0m         \u001b[0mLambda\u001b[0m \u001b[0;34m=\u001b[0m \u001b[0mJ_n\u001b[0m \u001b[0;34m/\u001b[0m \u001b[0;34m(\u001b[0m\u001b[0mnp\u001b[0m\u001b[0;34m.\u001b[0m\u001b[0msqrt\u001b[0m\u001b[0;34m(\u001b[0m\u001b[0;36m2.0\u001b[0m\u001b[0;34m)\u001b[0m \u001b[0;34m*\u001b[0m \u001b[0mself\u001b[0m\u001b[0;34m.\u001b[0m\u001b[0mM\u001b[0m \u001b[0;34m*\u001b[0m \u001b[0mV_c\u001b[0m \u001b[0;34m*\u001b[0m \u001b[0mself\u001b[0m\u001b[0;34m.\u001b[0m\u001b[0mR\u001b[0m\u001b[0;34m)\u001b[0m\u001b[0;34m\u001b[0m\u001b[0m\n\u001b[1;32m     91\u001b[0m \u001b[0;34m\u001b[0m\u001b[0m\n\u001b[0;32m---> 92\u001b[0;31m         \u001b[0;32massert\u001b[0m \u001b[0mLambda\u001b[0m \u001b[0;34m<=\u001b[0m\u001b[0;36m1\u001b[0m \u001b[0;34m,\u001b[0m\u001b[0;34m'Error lambda is larger than 1.'\u001b[0m\u001b[0;34m\u001b[0m\u001b[0m\n\u001b[0m\u001b[1;32m     93\u001b[0m         \u001b[0;32massert\u001b[0m \u001b[0mLambda\u001b[0m \u001b[0;34m>\u001b[0m\u001b[0;36m0\u001b[0m \u001b[0;34m,\u001b[0m\u001b[0;34m'Error lambda is negative'\u001b[0m\u001b[0;34m\u001b[0m\u001b[0m\n\u001b[1;32m     94\u001b[0m \u001b[0;34m\u001b[0m\u001b[0m\n",
      "\u001b[0;31mAssertionError\u001b[0m: Error lambda is larger than 1."
     ]
    }
   ],
   "source": [
    "l = PhysProps.spin_param(a, J)"
   ]
  },
  {
   "cell_type": "code",
   "execution_count": 6,
   "metadata": {
    "collapsed": false
   },
   "outputs": [
    {
     "name": "stdout",
     "output_type": "stream",
     "text": [
      "1.37100688989e+22\n",
      "R: 350.0\n",
      "V 155.054041772 km kpc(1/2) / (s solMass(1/2))\n",
      "91331.6154244\n"
     ]
    }
   ],
   "source": [
    "#spin parameter (lambda)\n",
    "#print pos, vel\n",
    "from scipy import linalg\n",
    "print linalg.norm([J[0].value, J[1].value, J[2].value])\n",
    "lam = spin_param([J[0].value, J[1].value, J[2].value], mass, pos, 350.)\n",
    "print(lam)\n",
    "# next week : add R argument to ang_mom and check the units of V_c"
   ]
  },
  {
   "cell_type": "code",
   "execution_count": 7,
   "metadata": {
    "collapsed": true
   },
   "outputs": [],
   "source": [
    "#K = kinetic_energy(vel, mass)"
   ]
  },
  {
   "cell_type": "code",
   "execution_count": 25,
   "metadata": {},
   "outputs": [
    {
     "data": {
      "text/plain": [
       "[1000000.0]"
      ]
     },
     "execution_count": 25,
     "metadata": {},
     "output_type": "execute_result"
    }
   ],
   "source": [
    "x[:1]"
   ]
  },
  {
   "cell_type": "code",
   "execution_count": null,
   "metadata": {},
   "outputs": [],
   "source": []
  }
 ],
 "metadata": {
  "kernelspec": {
   "display_name": "Python 3",
   "language": "python",
   "name": "python3"
  },
  "language_info": {
   "codemirror_mode": {
    "name": "ipython",
    "version": 3
   },
   "file_extension": ".py",
   "mimetype": "text/x-python",
   "name": "python",
   "nbconvert_exporter": "python",
   "pygments_lexer": "ipython3",
   "version": "3.5.2"
  }
 },
 "nbformat": 4,
 "nbformat_minor": 2
}
